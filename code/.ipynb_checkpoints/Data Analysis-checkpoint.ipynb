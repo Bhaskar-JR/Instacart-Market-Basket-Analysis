{
 "cells": [
  {
   "cell_type": "markdown",
   "metadata": {},
   "source": [
    "# Data Analysis - Instakart"
   ]
  },
  {
   "cell_type": "markdown",
   "metadata": {},
   "source": [
    "Before carrying out MCA and MBA on the given dataset, we can study the given dataset, its attributes and summarize the dataset for a better understanding."
   ]
  },
  {
   "cell_type": "code",
   "execution_count": 1,
   "metadata": {},
   "outputs": [],
   "source": [
    "#imports\n",
    "import pandas as pd #Python data analysis library\n",
    "import numpy as np #Python scientific computing\n",
    "import matplotlib.pyplot as plt #For plotting\n",
    "import seaborn as sns #Python visualization library\n",
    "from IPython.display import display, HTML\n",
    "\n",
    "#Plots inline\n",
    "%matplotlib inline"
   ]
  },
  {
   "cell_type": "code",
   "execution_count": 2,
   "metadata": {},
   "outputs": [],
   "source": [
    "#import dataset\n",
    "instaDf = pd.read_csv(\"../data/raw/order_products__train.csv\")\n",
    "orderDf = pd.read_csv(\"../data/raw/orders.csv\")\n",
    "depDf = pd.read_csv(\"../data/raw/departments.csv\")\n",
    "aisleDf = pd.read_csv(\"../data/raw/aisles.csv\")\n",
    "productDf = pd.read_csv(\"../data/raw/products.csv\")"
   ]
  },
  {
   "cell_type": "code",
   "execution_count": 3,
   "metadata": {},
   "outputs": [
    {
     "data": {
      "text/plain": [
       "(3421083, 7)"
      ]
     },
     "execution_count": 3,
     "metadata": {},
     "output_type": "execute_result"
    }
   ],
   "source": [
    "orderDf.shape"
   ]
  },
  {
   "cell_type": "code",
   "execution_count": 5,
   "metadata": {},
   "outputs": [
    {
     "data": {
      "text/plain": [
       "<matplotlib.text.Text at 0x10e235990>"
      ]
     },
     "execution_count": 5,
     "metadata": {},
     "output_type": "execute_result"
    },
    {
     "data": {
      "image/png": "[encoded data removed]",
      "text/plain": [
       "<matplotlib.figure.Figure at 0x113299790>"
      ]
     },
     "metadata": {},
     "output_type": "display_data"
    }
   ],
   "source": [
    "#get distribution of number of orders per customer\n",
    "customerNumOrderFrame = orderDf.groupby(\"user_id\",as_index = False)[\"order_number\"].max()\n",
    "plt.hist(customerNumOrderFrame[\"order_number\"])\n",
    "plt.xlabel(\"No. of Orders\")\n",
    "plt.ylabel(\"Count\")\n",
    "plt.title(\"Number of Orders per Customer Distribution\")"
   ]
  },
  {
   "cell_type": "code",
   "execution_count": null,
   "metadata": {},
   "outputs": [],
   "source": []
  }
 ],
 "metadata": {
  "kernelspec": {
   "display_name": "Python 2",
   "language": "python",
   "name": "python2"
  },
  "language_info": {
   "codemirror_mode": {
    "name": "ipython",
    "version": 2
   },
   "file_extension": ".py",
   "mimetype": "text/x-python",
   "name": "python",
   "nbconvert_exporter": "python",
   "pygments_lexer": "ipython2",
   "version": "2.7.10"
  }
 },
 "nbformat": 4,
 "nbformat_minor": 2
}
